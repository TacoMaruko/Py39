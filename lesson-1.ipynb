{
 "cells": [
  {
   "cell_type": "code",
   "execution_count": 1,
   "metadata": {},
   "outputs": [
    {
     "name": "stdout",
     "output_type": "stream",
     "text": [
      "Hello PyVenvNB Miniconda\n"
     ]
    }
   ],
   "source": [
    "print(\"Hello PyVenvNB Miniconda\")"
   ]
  },
  {
   "cell_type": "code",
   "execution_count": 2,
   "metadata": {},
   "outputs": [
    {
     "name": "stdout",
     "output_type": "stream",
     "text": [
      "<class 'list'>\n",
      "4\n"
     ]
    }
   ],
   "source": [
    "a = [1, 2, \"abc\", [3, 2, 1]]\n",
    "print(type(a))\n",
    "print(len(a))"
   ]
  },
  {
   "cell_type": "code",
   "execution_count": 4,
   "metadata": {},
   "outputs": [
    {
     "name": "stdout",
     "output_type": "stream",
     "text": [
      "總分：172\n",
      "平均：86.0\n"
     ]
    }
   ],
   "source": [
    "ch = eval(input(\"國文：\"))\n",
    "en = eval(input(\"英文：\"))\n",
    "\n",
    "total = ch + en\n",
    "aver = total / 2\n",
    "\n",
    "print(f\"總分：{total}\")\n",
    "print(f\"平均：{aver}\")\n"
   ]
  },
  {
   "cell_type": "code",
   "execution_count": 17,
   "metadata": {},
   "outputs": [
    {
     "name": "stdout",
     "output_type": "stream",
     "text": [
      "BMI：18.21\n",
      "太輕了！\n"
     ]
    }
   ],
   "source": [
    "bh = eval(input(\"身高：\"))\n",
    "bw = eval(input(\"體重：\"))\n",
    "\n",
    "bmi = round(bw / (bh / 100) ** 2, 3)\n",
    "\n",
    "print(f\"BMI：{bmi}\")\n",
    "\n",
    "if bmi >= 35:\n",
    "    print(\"重度肥胖！\")\n",
    "elif bmi >= 30:\n",
    "    print(\"中度胖\")\n",
    "elif bmi >= 27:\n",
    "    print(\"輕度胖\")\n",
    "elif bmi >=24:\n",
    "    print(\"微胖\")\n",
    "elif bmi < 18.5:\n",
    "    print(\"太輕了！\")\n",
    "else:\n",
    "    print(\"適當\")\n"
   ]
  }
 ],
 "metadata": {
  "kernelspec": {
   "display_name": "Python 3.9.12 ('base')",
   "language": "python",
   "name": "python3"
  },
  "language_info": {
   "codemirror_mode": {
    "name": "ipython",
    "version": 3
   },
   "file_extension": ".py",
   "mimetype": "text/x-python",
   "name": "python",
   "nbconvert_exporter": "python",
   "pygments_lexer": "ipython3",
   "version": "3.9.13"
  },
  "orig_nbformat": 4,
  "vscode": {
   "interpreter": {
    "hash": "19d1d53a962d236aa061289c2ac16dc8e6d9648c89fe79f459ae9a3493bc67b4"
   }
  }
 },
 "nbformat": 4,
 "nbformat_minor": 2
}
